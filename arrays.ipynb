{
 "cells": [
  {
   "cell_type": "markdown",
   "metadata": {},
   "source": [
    "## <a id=\"Array\"></a> DSA Interview Questions on Array\n",
    "\n",
    "1. Check if pair with the given Sum exists in Array  \n",
    "2. Best Time to Buy and Sell Stock  \n",
    "3. Find duplicates  \n",
    "4. Product of Array Except Self  \n",
    "5. Maximum Subarray  \n",
    "6. Maximum Product Subarray  \n",
    "7. Find Minimum in Rotated Sorted Array  \n",
    "8. Search in Rotated Sorted Array  \n",
    "9. 3 Sum  \n",
    "10. Container With Most Water  \n",
    "11. Find the Factorial of a large number  \n",
    "12. Trapping Rain Water  \n",
    "13. Chocolate Distribution Problem  \n",
    "14. Insert Interval  \n",
    "15. Merge Intervals  \n",
    "16. Non-overlapping Intervals  "
   ]
  },
  {
   "cell_type": "markdown",
   "metadata": {},
   "source": [
    "# 1. Check if pair with the given sums exists in an array"
   ]
  },
  {
   "cell_type": "markdown",
   "metadata": {},
   "source": [
    "The very basic approach is to generate all the possible pairs and check if any of them add up to the target value. To generate all pairs, we simply run two nested loops."
   ]
  },
  {
   "cell_type": "code",
   "execution_count": 18,
   "metadata": {},
   "outputs": [
    {
     "name": "stdout",
     "output_type": "stream",
     "text": [
      "true\n"
     ]
    }
   ],
   "source": [
    "def two_sum(arr, target):\n",
    "\n",
    "        n = len(arr)\n",
    "\n",
    "        for i in range(n):\n",
    "            for j in range(i+1, n):\n",
    "                if arr[i] + arr[j] == target:\n",
    "                    return True\n",
    "    \n",
    "        return False\n",
    "    \n",
    "if __name__ == \"__main__\":\n",
    "    arr = [0, -1, 2, -3, 1]\n",
    "    target = -2\n",
    "\n",
    "    if two_sum(arr, target):\n",
    "        print(\"true\")\n",
    "    else:\n",
    "        print(\"false\")  "
   ]
  },
  {
   "cell_type": "markdown",
   "metadata": {},
   "source": [
    "Time Complexity: O(n²), for using two nested loops\n",
    "Auxiliary Space: O(1)"
   ]
  },
  {
   "cell_type": "markdown",
   "metadata": {},
   "source": [
    "We can also also using *Binary Search*. You must sort the array first, then caluculate the complement (i.e. target - current number). Then use Binary Search to quickly check if the complement exists. Return True if you find the complement."
   ]
  },
  {
   "cell_type": "code",
   "execution_count": 19,
   "metadata": {},
   "outputs": [
    {
     "name": "stdout",
     "output_type": "stream",
     "text": [
      "true\n"
     ]
    }
   ],
   "source": [
    "def binary_search(arr, left, right, target):\n",
    "    while left <= right:\n",
    "        # declare mid point to segment the array\n",
    "        mid = left + (right - left) // 2\n",
    "        if arr[mid] == target:\n",
    "            return True\n",
    "        elif arr[mid] < target:\n",
    "            left = mid + 1\n",
    "        else:\n",
    "            right = mid + 1\n",
    "            \n",
    "    return False\n",
    "\n",
    "def twoSum(arr, target):\n",
    "    arr.sort()\n",
    "    \n",
    "    for i in range(len(arr)):\n",
    "        complement = target - arr[i]\n",
    "        \n",
    "        if binary_search(arr, i+1, len(arr) -1, complement):\n",
    "            return True\n",
    "        \n",
    "    return False\n",
    "\n",
    "if __name__ == \"__main__\":\n",
    "    arr = [0, -1, 2, -3, 1]\n",
    "    target = -2\n",
    "\n",
    "    if twoSum(arr, target):\n",
    "        print(\"true\")\n",
    "    else:\n",
    "        print(\"false\")\n",
    "                "
   ]
  },
  {
   "cell_type": "markdown",
   "metadata": {},
   "source": [
    "Time Complexity: O(n*log(n)), for sorting the array\n",
    "Auxiliary Space: O(1)"
   ]
  },
  {
   "cell_type": "markdown",
   "metadata": {},
   "source": [
    "Better option (#2):\n",
    "\n",
    "\n",
    "Sort and two pointer technique. We can achieve this by keeping one pointer at the beginning and another at the end of the array. Then check the sum of the elements at these two pointers:\n",
    "    - if sum equals target we have found a pair\n",
    "    - if sum is less than target move left pointer to right to increase the sum\n",
    "    - if sum is greater than the target move the right pointer to the left to decrease the sum"
   ]
  },
  {
   "cell_type": "code",
   "execution_count": 20,
   "metadata": {},
   "outputs": [
    {
     "name": "stdout",
     "output_type": "stream",
     "text": [
      "True\n"
     ]
    }
   ],
   "source": [
    "def two_sum(arr, target):\n",
    "    arr.sort()\n",
    "    \n",
    "    left, right = 0, len(arr) - 1\n",
    "    \n",
    "    while left < right:\n",
    "        sum = arr[left] + arr[right]\n",
    "        if sum == target:\n",
    "            return True\n",
    "        elif sum < target:\n",
    "            left += 1\n",
    "        else:\n",
    "            right -= 1\n",
    "            \n",
    "    return False\n",
    "\n",
    "# test\n",
    "\n",
    "arr = [0,-1,2,-3,1]\n",
    "target = -2\n",
    "\n",
    "if two_sum(arr, target):\n",
    "    print(\"True\")\n",
    "else:\n",
    "    print(\"False\")"
   ]
  },
  {
   "cell_type": "markdown",
   "metadata": {},
   "source": [
    "Time Complexity: O(n*log(n)), for sorting the array\n",
    "Auxiliary Space: O(1)\n",
    "\n",
    "Note : This approach is the best approach for a sorted array. But if array is not sorted, then we use the below approach."
   ]
  },
  {
   "cell_type": "markdown",
   "metadata": {},
   "source": [
    "Expected Approach:\n",
    "\n",
    "Hashing provides a more efficient solution to the 2sum problem."
   ]
  },
  {
   "cell_type": "code",
   "execution_count": 21,
   "metadata": {},
   "outputs": [
    {
     "name": "stdout",
     "output_type": "stream",
     "text": [
      "true\n"
     ]
    }
   ],
   "source": [
    "def hash_two_sum(arr, target):\n",
    "    \n",
    "    s = set()\n",
    "    \n",
    "    for num in arr:\n",
    "        complement = target - num\n",
    "        \n",
    "        if complement in s:\n",
    "            return True\n",
    "        \n",
    "        s.add(num)\n",
    "        \n",
    "    return False\n",
    "\n",
    "arr = [0, -1, 2, -3, 1]\n",
    "target = -2\n",
    "\n",
    "# Call the two_sum function and print the result\n",
    "if hash_two_sum(arr, target):\n",
    "    print(\"true\")\n",
    "else:\n",
    "    print(\"false\")"
   ]
  },
  {
   "cell_type": "markdown",
   "metadata": {},
   "source": [
    "Time Complexity: O(n), for single iteration over the array\n",
    "Auxiliary Space: O(n), for hash set."
   ]
  },
  {
   "cell_type": "markdown",
   "metadata": {},
   "source": [
    "## 2. Best Time to Buy and Sell Stock"
   ]
  },
  {
   "cell_type": "markdown",
   "metadata": {},
   "source": [
    "Given an array prices[] of length N, representing the prices of the stocks on different days, the task is to find the maximum profit possible by buying and selling the stocks on different days when at most one transaction is allowed. Here one transaction means 1 buy + 1 Sell.\n",
    "\n",
    "Note: Stock must be bought before being sold.\n",
    "\n",
    "Examples:\n",
    "```\n",
    "    Input: prices[] = {7, 10, 1, 3, 6, 9, 2}\n",
    "    Output: 8\n",
    "    Explanation: Buy for price 1 and sell for price 9. \n",
    "\n",
    "    Input: prices[] = {7, 6, 4, 3, 1} \n",
    "    Output: 0\n",
    "    Explanation: Since the array is sorted in decreasing order, 0 profit can be made without making any transaction.\n",
    "\n",
    "    Input: prices[] = {1, 3, 6, 9, 11} \n",
    "    Output: 10\n",
    "    Explanation: Since the array is sorted in increasing order, we can make maximum profit by buying at price[0] and selling at price[n-1]\n",
    "```\n"
   ]
  },
  {
   "cell_type": "markdown",
   "metadata": {},
   "source": [
    "* [Naive Approach] By exploring all possible pairs – O(n^2) Time and O(1) Space "
   ]
  },
  {
   "cell_type": "markdown",
   "metadata": {},
   "source": []
  }
 ],
 "metadata": {
  "kernelspec": {
   "display_name": "Python 3",
   "language": "python",
   "name": "python3"
  },
  "language_info": {
   "codemirror_mode": {
    "name": "ipython",
    "version": 3
   },
   "file_extension": ".py",
   "mimetype": "text/x-python",
   "name": "python",
   "nbconvert_exporter": "python",
   "pygments_lexer": "ipython3",
   "version": "3.13.1"
  }
 },
 "nbformat": 4,
 "nbformat_minor": 2
}
